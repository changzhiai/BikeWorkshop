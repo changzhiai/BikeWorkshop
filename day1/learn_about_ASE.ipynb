{
 "cells": [
  {
   "cell_type": "markdown",
   "metadata": {
    "collapsed": false,
    "id": "QvPxfWYwL4Fr"
   },
   "source": [
    "![ASE](https://gitlab.com/ase/ase/-/raw/master/doc/static/ase256.png?inline=false)\n",
    "\n",
    "# Introduction to the Atomic simulation environment (ASE)\n"
   ]
  },
  {
   "cell_type": "markdown",
   "metadata": {
    "collapsed": false,
    "id": "1uieqxCjPvph"
   },
   "source": [
    "ASE is a module designed for working with atoms. It uses the units of Ångstrom (Å) for length and electron volts (eV) for energy.\n",
    "\n",
    "The central object in ASE is the [Atoms](https://wiki.fysik.dtu.dk/ase/ase/atoms.html#module-ase.atoms)\n",
    "\n",
    "![ASE Atoms](https://drive.google.com/uc?id=12wBZgYg7STTOYz-KNFUkbXWM9O0xsu-c)\n",
    "\n",
    "Let's try to create an `Atoms` object the simplest way."
   ]
  },
  {
   "cell_type": "code",
   "execution_count": null,
   "metadata": {
    "collapsed": false,
    "id": "96r2bXx0hBT7"
   },
   "outputs": [],
   "source": [
    "# CO molecule with a bond length of 1.1 Å\n",
    "from ase import Atoms\n",
    "d = 1.1  # Å\n",
    "atoms = Atoms('CO', positions=[[0, 0, 0], [0, 0, d]])"
   ]
  },
  {
   "cell_type": "markdown",
   "metadata": {
    "collapsed": false,
    "id": "ZCuHsbhBNWiB"
   },
   "source": [
    "ASE contains tools to visualize the system. Use the [`view`](https://wiki.fysik.dtu.dk/ase/dev/ase/visualize/visualize.html#visualization) function. "
   ]
  },
  {
   "cell_type": "code",
   "execution_count": null,
   "metadata": {
    "collapsed": false,
    "id": "rSeLjtJ9hMBd"
   },
   "outputs": [],
   "source": [
    "from ase.visualize import view\n",
    "view(atoms)"
   ]
  },
  {
   "cell_type": "markdown",
   "metadata": {
    "collapsed": false,
    "id": "Ipu69gmWCfbO"
   },
   "source": [
    "We can loop through the `Atoms` object to get `Atom` objects"
   ]
  },
  {
   "cell_type": "code",
   "execution_count": null,
   "metadata": {
    "collapsed": false,
    "id": "AdOHXOiqCiBe"
   },
   "outputs": [],
   "source": [
    "print(atoms)\n",
    "print(atoms.positions)\n",
    "for atom in atoms:\n",
    "    print(atom)\n",
    "    print(atom.index, atom.position)"
   ]
  },
  {
   "cell_type": "markdown",
   "metadata": {
    "collapsed": false,
    "id": "dJGoDDvJDByS"
   },
   "source": [
    "As you can see, the first print statement is `Atoms`, which contains more than a single atom, while the `Atom` object only contains 1 atom. Both types of objects have variables that can be accessed directly (positions, magmoms, ...)\n",
    "\n",
    "Let's try to setup a periodic structure."
   ]
  },
  {
   "cell_type": "code",
   "execution_count": null,
   "metadata": {
    "collapsed": false,
    "id": "CP2rebg5Dy2-"
   },
   "outputs": [],
   "source": [
    "d = 2.9  # Å\n",
    "L = 10  # Å\n",
    "wire = Atoms('Au', positions=[[0, 0, 0]],\n",
    "             cell=[d, L, L],  # unit cell lengths\n",
    "             pbc=[1, 0, 0])  # periodic boundary conditions\n",
    "# let's try and repeat it and visualize the repeated structure\n",
    "wire10 = wire * (10, 1, 1)\n",
    "view(wire10)"
   ]
  },
  {
   "cell_type": "markdown",
   "metadata": {
    "collapsed": false,
    "id": "uHoe8wshDy2-"
   },
   "source": [
    "Let's setup a surface using one of the utility functions in [`ase.build`](https://wiki.fysik.dtu.dk/ase/dev/ase/build/build.html#module-ase.build), add an [adsorbate](https://wiki.fysik.dtu.dk/ase/dev/ase/build/surface.html#adding-adsorbates), [fix](https://wiki.fysik.dtu.dk/ase/dev/ase/constraints.html#the-fixatoms-class) the \"bulk\" atoms and finally do a geometrical [relaxation](https://wiki.fysik.dtu.dk/ase/dev/ase/optimize.html#module-ase.optimize)"
   ]
  },
  {
   "cell_type": "code",
   "execution_count": null,
   "metadata": {
    "collapsed": false,
    "id": "APu2niBCDy2-"
   },
   "outputs": [],
   "source": [
    "# Create the slab\n",
    "from ase.build import fcc100\n",
    "\n",
    "slab = fcc100('Cu',\n",
    "              size=(3, 3, 3),\n",
    "              vacuum=7)\n",
    "\n",
    "# Uncomment the following line if you want to check that the slab looks okay\n",
    "#view(slab)"
   ]
  },
  {
   "cell_type": "code",
   "execution_count": null,
   "metadata": {
    "collapsed": false,
    "id": "MgjuOUInDy2-"
   },
   "outputs": [],
   "source": [
    "# Add an adsorbate\n",
    "from ase.build import add_adsorbate\n",
    "\n",
    "add_adsorbate(slab, adsorbate='Cu',\n",
    "              height=3.0,\n",
    "              position='ontop')\n",
    "\n",
    "#view(slab)"
   ]
  },
  {
   "cell_type": "code",
   "execution_count": null,
   "metadata": {
    "collapsed": false,
    "id": "EXb5yoXHDy2-"
   },
   "outputs": [],
   "source": [
    "# Constrain the lower layers of the slab, they are the bulk\n",
    "from ase.constraints import FixAtoms\n",
    "\n",
    "con = FixAtoms(mask=[atom.tag > 1 for atom in slab])\n",
    "slab.set_constraint(con)"
   ]
  },
  {
   "cell_type": "markdown",
   "metadata": {
    "collapsed": false,
    "id": "MAKRj-nGlHZe"
   },
   "source": [
    "ASE uses calculators to perform calculations. Calculators are abstract interfaces to different backends which do the actual computation. Normally, calculators work by calling an external electronic structure code or force field code. To run a calculation, we must first create a calculator and then attach it to the `Atoms` object. For the sake of the tutorial's simplicity we will use the [EMT potential](https://wiki.fysik.dtu.dk/ase/ase/calculators/emt.html#module-ase.calculators.emt) which is quite accurate for some FCC metals.\n",
    "\n",
    "ASE provides [several optimization algorithms](https://wiki.fysik.dtu.dk/ase/ase/optimize.html#module-ase.optimize) that can run on top of `Atoms` equipped with a calculator. The `trajectory` keyword above ensures that the trajectory of intermediate geometries is written to `Cu-slab-relax.traj`."
   ]
  },
  {
   "cell_type": "code",
   "execution_count": null,
   "metadata": {
    "collapsed": false,
    "id": "H_k2kAB2Dy2-"
   },
   "outputs": [],
   "source": [
    "# Attach a calculator and relax the atomic positions\n",
    "from ase.calculators.emt import EMT\n",
    "from ase.optimize import BFGS\n",
    "\n",
    "# The calculator\n",
    "calc = EMT()\n",
    "slab.calc = calc\n",
    "\n",
    "# The optimizer\n",
    "traj_file = 'Cu-slab-relax.traj'\n",
    "opt = BFGS(slab, trajectory=traj_file)\n",
    "opt.run(fmax=0.05)  # unit of force is eV/Å\n"
   ]
  },
  {
   "cell_type": "code",
   "execution_count": null,
   "metadata": {
    "collapsed": false,
    "id": "sOEIw3n0Dy2-"
   },
   "outputs": [],
   "source": [
    "# Read in the steps of the relaxation\n",
    "from ase.io import read\n",
    "\n",
    "slab_relax = read(traj_file, index=':')\n",
    "\n",
    "# View the adatom relax on the slab\n",
    "#view(slab_relax)\n",
    "\n",
    "# And plot the height of the adatom as a function of steps\n",
    "import matplotlib.pyplot as plt\n",
    "import numpy as np\n",
    "%matplotlib inline\n",
    "\n",
    "# Get the index of the closest atom\n",
    "a0 = slab_relax[0]\n",
    "closest_idx = np.argmin(a0.get_distances(-1, range(len(a0) - 1)))\n",
    "\n",
    "heights = [a.get_distance(-1, closest_idx) for a in slab_relax]\n",
    "plt.plot(range(len(heights)), heights)\n",
    "plt.xlabel('Steps')\n",
    "plt.ylabel('Adatom height / Å')\n",
    "plt.show()"
   ]
  },
  {
   "cell_type": "code",
   "execution_count": null,
   "metadata": {
    "collapsed": false,
    "id": "CvItoIHcDy2-"
   },
   "outputs": [],
   "source": [
    "# add small pertubation away from the symmetric position of the adsorbate\n",
    "slab[-1].position += [.1, .1, 0]\n",
    "opt.run(fmax=0.05)  # Max force 0.05 eV/Å\n",
    "slab_relax = read(traj_file, index=':')\n",
    "\n",
    "view(slab_relax[-1])\n"
   ]
  },
  {
   "cell_type": "markdown",
   "metadata": {
    "collapsed": false,
    "id": "CQioB3tCdI34"
   },
   "source": [
    "We can see that the adatom has now fallen into a hollow site. Let's get the height in a different way then."
   ]
  },
  {
   "cell_type": "code",
   "execution_count": null,
   "metadata": {
    "collapsed": false,
    "id": "Ag80NVABdWoo"
   },
   "outputs": [],
   "source": [
    "heights = [a[-1].z - np.average(a[a.get_tags() == 1].positions[:, 2])\n",
    "           for a in slab_relax]\n",
    "plt.plot(range(len(heights)), heights)\n",
    "plt.xlabel('Steps')\n",
    "plt.ylabel('Adatom height / Å')\n",
    "plt.show()"
   ]
  },
  {
   "cell_type": "markdown",
   "metadata": {
    "collapsed": false,
    "id": "KcYltXZ29pAl"
   },
   "source": [
    "The current energy in eV of the `Atoms` object, given an attached calculator, can be fetched with [`get_potential_energy`](https://wiki.fysik.dtu.dk/ase/ase/atoms.html#ase.Atoms.get_potential_energy)"
   ]
  },
  {
   "cell_type": "code",
   "execution_count": null,
   "metadata": {
    "collapsed": false,
    "id": "gIB9IhDYDy2-"
   },
   "outputs": [],
   "source": [
    "# get the energy out directly\n",
    "print(slab.get_potential_energy())"
   ]
  },
  {
   "cell_type": "markdown",
   "metadata": {
    "collapsed": false,
    "id": "C0lUvlKXfKMO"
   },
   "source": [
    "## Molecular dynamics\n",
    "\n",
    "Let's look at an example of an MD simulation with Langevin dynamics performed with ASE. We will still use the EMT potential, but now a faster implementation of it in [ASAP](https://wiki.fysik.dtu.dk/asap)\n",
    "\n",
    "The Langevin dynamics will then slowly adjust the total energy of the system so the temperature approaches the desired one.\n",
    "\n",
    "Let us melt a chunk of copper by starting the simulation without any momentum of the atoms (no kinetic energy), and with a desired temperature above the melting point. We will also save information about the atoms in a trajectory file called `moldyn3.traj`.\n",
    "\n",
    "First we set up the structure:"
   ]
  },
  {
   "cell_type": "code",
   "execution_count": null,
   "metadata": {
    "collapsed": false,
    "id": "OAQaaj9qhg9P"
   },
   "outputs": [],
   "source": [
    "from ase.lattice.cubic import FaceCenteredCubic\n",
    "\n",
    "size = 10  # Å\n",
    "    \n",
    "# Set up a crystal\n",
    "atoms = FaceCenteredCubic(directions=[[1, 0, 0], [0, 1, 0], [0, 0, 1]],\n",
    "                          symbol='Cu',\n",
    "                          size=(size, size, size),\n",
    "                          pbc=True)\n",
    "\n",
    "#view(atoms)"
   ]
  },
  {
   "cell_type": "markdown",
   "metadata": {
    "collapsed": false,
    "id": "GKcGZ-zj-X8m"
   },
   "source": [
    "Then we run the MD. **Note** this calculation takes some minutes to finish, you should be able to follow the progress."
   ]
  },
  {
   "cell_type": "code",
   "execution_count": null,
   "metadata": {
    "collapsed": false,
    "id": "PttkEYEahpo9"
   },
   "outputs": [],
   "source": [
    "from ase.io.trajectory import Trajectory\n",
    "from ase.md.langevin import Langevin\n",
    "from ase import units\n",
    "from asap3 import EMT\n",
    "\n",
    "\n",
    "# We select a temperature higher than the melting temperature of copper\n",
    "T = 2000  # Kelvin\n",
    "sampling_interval = 50\n",
    "\n",
    "# Describe the interatomic interactions with the Effective Medium Theory\n",
    "atoms.calc = EMT()\n",
    "\n",
    "# We want to run MD with constant energy using the Langevin algorithm\n",
    "# with a time step of 5 fs, the temperature T and the friction\n",
    "# coefficient to 0.02 atomic units.\n",
    "dyn = Langevin(atoms, 5 * units.fs, T * units.kB, 0.002)\n",
    "\n",
    "\n",
    "def printenergy(a=atoms):  # store a reference to atoms in the definition.\n",
    "    \"\"\"Function to print the potential, kinetic and total energy.\"\"\"\n",
    "    epot = a.get_potential_energy() / len(a)\n",
    "    ekin = a.get_kinetic_energy() / len(a)\n",
    "    print('Energy per atom: Epot = %.3feV  Ekin = %.3feV (T=%3.0fK)  '\n",
    "          'Etot = %.3feV' % (epot, ekin, ekin / (1.5 * units.kB), epot + ekin))\n",
    "    \n",
    "dyn.attach(printenergy, interval=50)\n",
    "\n",
    "# We also want to save the positions of all atoms after every 100th time step.\n",
    "traj = Trajectory('moldyn3.traj', 'w', atoms)\n",
    "dyn.attach(traj.write, interval=sampling_interval)\n",
    "\n",
    "# Now run the dynamics\n",
    "printenergy()\n",
    "dyn.run(5000)\n",
    "\n"
   ]
  },
  {
   "cell_type": "markdown",
   "metadata": {
    "collapsed": false,
    "id": "IwHib89M5zvv"
   },
   "source": [
    "### Question\n",
    "\n",
    "* Read in the trajectory and plot the kinetic energy as a function of time."
   ]
  },
  {
   "cell_type": "code",
   "execution_count": null,
   "metadata": {
    "collapsed": false,
    "id": "ob5rWy5_4Poi"
   },
   "outputs": [],
   "source": [
    "import matplotlib.pyplot as plt\n",
    "from ase.io import read\n",
    "\n",
    "%matplotlib inline\n",
    "\n"
   ]
  },
  {
   "cell_type": "markdown",
   "metadata": {
    "collapsed": false,
    "id": "BE1rlKmHUqvU"
   },
   "source": [
    "## Pourbaix diagram\n",
    "\n",
    "A [Pourbaix diagram](https://en.wikipedia.org/wiki/Pourbaix_diagram) shows the thermodynamically stable phases of an electrochemical system in water. Let's say we would like to know what happens when MnO$_2$ dissolves in water. ASE can draw a Pourbaix diagram of the system given only a few supplied values. Many experimental solvation values are tabulated and can be fetched using [`solvated`](https://wiki.fysik.dtu.dk/ase/ase/phasediagram/phasediagram.html#ase.phasediagram.Pourbaix.decompose): "
   ]
  },
  {
   "cell_type": "code",
   "execution_count": null,
   "metadata": {
    "collapsed": false,
    "id": "sc5SRrAwU7s0"
   },
   "outputs": [],
   "source": [
    "from ase.phasediagram import solvated\n",
    "refs = solvated('Mn')\n",
    "print(refs)"
   ]
  },
  {
   "cell_type": "markdown",
   "metadata": {
    "collapsed": false,
    "id": "dmyjjoD4ZnC-"
   },
   "source": [
    "The solvated species along with their respective energies in eV are put in a list of tuples. We can add to this list our calculated/measured values."
   ]
  },
  {
   "cell_type": "code",
   "execution_count": null,
   "metadata": {
    "collapsed": false,
    "id": "Y4c6Wq08VVZQ"
   },
   "outputs": [],
   "source": [
    "refs += [('Mn', 0.0), ('MnO2', -5.2), ('Mn2O3', -9.9), ('Mn3O4', -14.3), ('Mn(OH)2', -6.7)]\n",
    "\n",
    "# Let's instantiate the Pourbaix object with our target system: MnO2\n",
    "from ase.phasediagram import Pourbaix\n",
    "pb = Pourbaix(refs, Mn=1, O=2)"
   ]
  },
  {
   "cell_type": "markdown",
   "metadata": {
    "collapsed": false,
    "id": "6Y5DQEcWasVl"
   },
   "source": [
    "Let's see what MnO$_2$ will [`decompose`](https://wiki.fysik.dtu.dk/ase/ase/phasediagram/phasediagram.html#ase.phasediagram.Pourbaix.decompose) to at a potential of 1 V and a pH of 5.0:"
   ]
  },
  {
   "cell_type": "code",
   "execution_count": null,
   "metadata": {
    "collapsed": false,
    "id": "Vtc-up4kaX_s"
   },
   "outputs": [],
   "source": [
    "coefs, energy = pb.decompose(U=0.5, pH=8.0)\n"
   ]
  },
  {
   "cell_type": "markdown",
   "metadata": {
    "collapsed": false,
    "id": "xSHBnbuCbNXi"
   },
   "source": [
    "So the reaction is: $2\\text{MnO}_2 + 2\\text{H}^+ + 2e^- \\rightarrow \\text{H}_2\\text{O}  + \\text{Mn}_2\\text{O}_3$\n",
    "\n",
    "To draw the full diagram do:"
   ]
  },
  {
   "cell_type": "code",
   "execution_count": null,
   "metadata": {
    "collapsed": false,
    "id": "Xgl0Rv3YWRba"
   },
   "outputs": [],
   "source": [
    "import numpy as np\n",
    "\n",
    "U = np.linspace(-2, 2, 200)\n",
    "pH = np.linspace(-2, 12, 300)\n",
    "d, names, text = pb.diagram(U, pH, plot=True)"
   ]
  },
  {
   "cell_type": "markdown",
   "metadata": {
    "collapsed": false,
    "id": "seKAtdS7dlLJ"
   },
   "source": [
    "What is the reaction at pH 10 and 1.5 V potential?"
   ]
  },
  {
   "cell_type": "code",
   "execution_count": null,
   "metadata": {
    "collapsed": false,
    "id": "-OSTQqyhdyAx"
   },
   "outputs": [],
   "source": [
    "pb..."
   ]
  },
  {
   "cell_type": "markdown",
   "metadata": {
    "collapsed": false
   },
   "source": [
    "# Build nanoparticles\n",
    "\n",
    "Let us look at different ways of building nanoparticles with ASE.\n",
    "\n",
    "## Layer specification\n",
    "\n",
    "The first method truncates bulk structures with different surface terminations. You import the crystalstructure from `ase.cluster.cubic` and then specify the Miller indices of the exposed surfaces and number of layers. Let's try to create a small cuboctahedral particle:"
   ]
  },
  {
   "cell_type": "code",
   "execution_count": null,
   "metadata": {
    "collapsed": false
   },
   "outputs": [],
   "source": [
    "from ase.visualize import view\n",
    "from ase.cluster.cubic import FaceCenteredCubic\n",
    "\n",
    "surfaces = [(1, 0, 0), (1, 1, 1)]\n",
    "layers = [2, 2]\n",
    "lc = 3.61\n",
    "atoms = FaceCenteredCubic('Cu', surfaces, layers, latticeconstant=lc)\n",
    "view(atoms)"
   ]
  },
  {
   "cell_type": "markdown",
   "metadata": {
    "collapsed": false
   },
   "source": [
    "The layer specification method can be useful if you want to create a cluster where one part has been truncated by a substrate. "
   ]
  },
  {
   "cell_type": "code",
   "execution_count": null,
   "metadata": {
    "collapsed": false
   },
   "outputs": [],
   "source": [
    "surfaces = [(1, 0, 0), (1, 1, 1), (1, -1, 1)]\n",
    "layers = [4, 5, -1]\n",
    "lc = 3.61\n",
    "atoms = FaceCenteredCubic('Cu', surfaces, layers, latticeconstant=lc)\n",
    "view(atoms)\n"
   ]
  },
  {
   "cell_type": "markdown",
   "metadata": {
    "collapsed": false
   },
   "source": [
    "More info [here.](https://wiki.fysik.dtu.dk/ase/dev/ase/cluster/cluster.html#creating-a-nanoparticle)"
   ]
  },
  {
   "cell_type": "markdown",
   "metadata": {
    "collapsed": false
   },
   "source": [
    "## Other symmetries\n",
    "\n",
    "Creating a particle that doesn't have bulk symmetry is also possible. Let's create a small icosahedral particle:"
   ]
  },
  {
   "cell_type": "code",
   "execution_count": null,
   "metadata": {
    "collapsed": false
   },
   "outputs": [],
   "source": [
    "from ase.cluster import Icosahedron\n",
    "\n",
    "atoms = Icosahedron('Cu', 3, latticeconstant=lc)\n",
    "view(atoms)"
   ]
  },
  {
   "cell_type": "markdown",
   "metadata": {
    "collapsed": false
   },
   "source": [
    "It is also possible to construct decahedral structures. See [here](https://wiki.fysik.dtu.dk/ase/dev/ase/cluster/cluster.html#ase.cluster.Decahedron)"
   ]
  },
  {
   "cell_type": "markdown",
   "metadata": {
    "collapsed": false,
    "id": "zMGV0WXLvFVY"
   },
   "source": [
    "## Wulff construction\n",
    "\n",
    "We are going to make a Pt cluster based on a Wulff construction. The Wulff construction provides the minimum energy shape for a given set of facet-dependent surface energies. In this excercise, we are going to use Wulff construction module which is avaliable in ASE for creating Pt clster. A list of surface and surface energies should be specified. The surface energies are in units of energy per area (not energy per atom). In addition, the approximate size of the nanoparticle should be given."
   ]
  },
  {
   "cell_type": "markdown",
   "metadata": {
    "collapsed": false
   },
   "source": [
    "### Define and optimize Pt bulk structures\n",
    "\n",
    "The EMT potential is used as a simple calculator and for quick demonstrations and tests.\n",
    "   \n",
    "The [`ase.build.bulk`](https://wiki.fysik.dtu.dk/ase/dev/ase/build/build.html#common-bulk-crystals) function is used to build Pt bulk structure with face center cubic (fcc) unit cell and lattice contant 3.90 Angstrom."
   ]
  },
  {
   "cell_type": "code",
   "execution_count": null,
   "metadata": {
    "collapsed": false
   },
   "outputs": [],
   "source": [
    "import ase\n",
    "import numpy as np\n",
    "from ase.cluster import wulff_construction\n",
    "from ase.visualize import view\n",
    "from ase.io import write\n",
    "from ase.build import bulk, surface\n",
    "from ase.constraints import UnitCellFilter\n",
    "from ase.optimize import BFGS\n",
    "from ase.calculators.emt import EMT\n",
    "\n",
    "atoms = bulk('Pt', 'fcc', a=3.90, cubic = True)\n",
    "atoms.set_calculator(EMT())\n",
    "uf = UnitCellFilter(atoms)\n",
    "relax = BFGS(uf, \n",
    "             trajectory='bulk_relax.traj', \n",
    "             logfile='bulk_relax.log')\n",
    "relax.run(fmax=0.01)\n",
    "e_bulk = atoms.get_potential_energy()/len(atoms)\n",
    "cell = atoms.get_cell()\n",
    "a_bulk, b_bulk, c_bulk = np.linalg.norm(cell, axis=1)\n",
    "\n",
    "view(atoms)"
   ]
  },
  {
   "cell_type": "markdown",
   "metadata": {
    "collapsed": false
   },
   "source": [
    "### Calculate surface energies\n",
    "\n",
    "The [`ase.build.surface`](https://wiki.fysik.dtu.dk/ase/dev/ase/build/surface.html#create-specific-non-common-surfaces) function is used to build Pt surface from a given lattice and Miller indices\n",
    "    \n",
    "The surface energy can be calculated from the following expression:\n",
    "    \n",
    "e_surf = 0.5*(1/A)*(e_slab-n_slab*e_bulk)\n",
    "    \n",
    "where  e_slab is the total energy of surface slab,\n",
    "     n_slab is the number of atoms in the surface slab,\n",
    "     e_bulk is the bulk energy per atom,\n",
    "     A is the surface area."
   ]
  },
  {
   "cell_type": "code",
   "execution_count": null,
   "metadata": {
    "collapsed": false
   },
   "outputs": [],
   "source": [
    "facets = [(1, 0, 0), (1, 1, 1), (1, 1, 0), (3, 1, 1)] # A list of surfaces\n",
    "esurf = []\n",
    "for facet in facets:\n",
    "    slab = surface(atoms, facet, 6)\n",
    "    slab.center(vacuum=10, axis=2)\n",
    "    slab.set_calculator(EMT())\n",
    "    relax = BFGS(slab, \n",
    "                 trajectory='surface%d%d%d_relax.traj'%(facet[0],facet[1],facet[2]), \n",
    "                 logfile='surface%d%d%d_relax.log'%(facet[0],facet[1],facet[2]))\n",
    "    relax.run(fmax=0.01)\n",
    "    e_slab = slab.get_potential_energy()\n",
    "    n_slab = len(slab)\n",
    "    a = slab.get_cell()[0]\n",
    "    b = slab.get_cell()[1]\n",
    "    A = np.linalg.norm(np.cross(a, b))\n",
    "    e_surf = 0.5*(1/A)*(e_slab-n_slab*e_bulk) # surface energy in units of energy per area \n",
    "    esurf.append(e_surf)\n",
    "    print('surface energy %s : %.3f eV/Angstrom^2'%(facet, e_surf))"
   ]
  },
  {
   "cell_type": "markdown",
   "metadata": {
    "collapsed": false
   },
   "source": [
    "### Creating a cluster using Wulff construction\n",
    "    \n",
    "The [`ase.cluster.wulff_construction`](https://wiki.fysik.dtu.dk/ase/dev/ase/cluster/cluster.html#wulff-construction) function is used to create a cluster using the Wulff construction.\n",
    "    \n",
    "Arguments for function:\n",
    "\n",
    "    symbol: The chemical symbol (or atomic number) of the desired element.\n",
    "    \n",
    "    surfaces: A list of surfaces. Each surface is an (h, k, l) tuple or list of integers.\n",
    "\n",
    "    energies: A list of surface energies for the surfaces.\n",
    "\n",
    "    size: The desired number of atoms.\n",
    "\n",
    "    structure: The desired crystal structure. One of the strings \"fcc\", \"bcc\", or \"sc\".\n",
    "\n",
    "    rounding (optional): Specifies what should be done if no Wulff construction corresponds to exactly the requested \n",
    "    number of atoms. Should be a string, either \"above\", \"below\" or \"closest\" (the default), meaning that the nearest \n",
    "    cluster above or below - or the closest one - is created instead.\n",
    "    \n",
    "You can read more about ASE modules for creating nanoparticles (clusters):\n",
    "https://wiki.fysik.dtu.dk/ase/ase/cluster/cluster.html"
   ]
  },
  {
   "cell_type": "code",
   "execution_count": null,
   "metadata": {
    "collapsed": false
   },
   "outputs": [],
   "source": [
    "cluster = wulff_construction(symbol='Pt', \n",
    "                             surfaces=facets, \n",
    "                             energies=esurf, \n",
    "                             size=100, \n",
    "                             structure='fcc', \n",
    "                             rounding='above', \n",
    "                             latticeconstant=a_bulk)\n",
    "view(cluster)"
   ]
  },
  {
   "cell_type": "markdown",
   "metadata": {
    "collapsed": false
   },
   "source": [
    "# Exercise\n",
    "\n",
    "## Setting up a surface\n",
    "Can you try to set up the (1, 1, 1) and (1, 0, 0) Pt surfaces, calculate their surface energy and include into the previous Wulff construction? How the Pt cluster change from the previous calculation and How the cluster comeout looking?\n",
    "\n",
    "Remember to visualize your surfaces. Inspiration can be found at https://wiki.fysik.dtu.dk/ase/ase/build/surface.html"
   ]
  },
  {
   "cell_type": "code",
   "execution_count": null,
   "metadata": {
    "collapsed": false
   },
   "outputs": [],
   "source": [
    "import ase\n",
    "import numpy as np\n",
    "from ase.cluster import wulff_construction\n",
    "from ase.visualize import view\n",
    "from ase.io import write\n",
    "from ase.build import surface\n",
    "\n",
    "\n",
    "\n",
    "\n",
    "\n"
   ]
  },
  {
   "cell_type": "markdown",
   "metadata": {
    "collapsed": false
   },
   "source": [
    "## Creating you own Au cluster: \n",
    "Can you try to make Au cluster based on Wulff construction (in the following cells) and try to answer this following queestion?:\n",
    "1. Which facet give the minimum energy surface?\n",
    "2. How the cluster comes out looking?\n",
    "\n",
    "These calculations will be fast, so you can try to do the other calculations for the other elements (optinal) such as Pd, Ni and Cu (Right now, the only supported elements are: H, C, N, O, Al, Ni, Cu, Pd, Ag, Pt and Au.)"
   ]
  },
  {
   "cell_type": "code",
   "execution_count": null,
   "metadata": {
    "collapsed": false
   },
   "outputs": [],
   "source": [
    "import ase\n",
    "import numpy as np\n",
    "from ase.cluster import wulff_construction\n",
    "from ase.visualize import view\n",
    "from ase.io import write\n",
    "from ase.build import surface\n",
    "from ase.constraints import UnitCellFilter\n",
    "from ase.optimize import BFGS\n",
    "from ase.calculators.emt import EMT\n",
    "from IPython.display import Image\n",
    "\n",
    "\"\"\" Definie and optimize bulk structures\n",
    "    Calculate the bulk energy per atom for surface energies calculation \"\"\"\n",
    "atoms = bulk(...)\n",
    "\n",
    "\n",
    "\n",
    "\n",
    "\n",
    "\"\"\" Definine and optimize surface\n",
    "    Calculate surface energies \"\"\"\n",
    "facets = [...] #A list of surfaces\n",
    "\n",
    "\n",
    "\n",
    "\n",
    "\"\"\" Create a cluster using the Wulff construction and then try to visualize the cluster\"\"\"\n",
    "cluster = wulff_construction(...)\n",
    "\n",
    "\n",
    "\n"
   ]
  }
 ],
 "metadata": {
  "colab": {
   "collapsed_sections": [],
   "name": "ASE test notebook",
   "provenance": []
  },
  "kernelspec": {
   "argv": [
    "python",
    "-m",
    "ipykernel_launcher",
    "-f",
    "{connection_file}"
   ],
   "display_name": "Python 3",
   "env": null,
   "interrupt_mode": "signal",
   "language": "python",
   "metadata": null,
   "name": "python3"
  },
  "language_info": {
   "codemirror_mode": {
    "name": "ipython",
    "version": 3
   },
   "file_extension": ".py",
   "mimetype": "text/x-python",
   "name": "python",
   "nbconvert_exporter": "python",
   "pygments_lexer": "ipython3",
   "version": "3.7.6"
  },
  "name": "ASE_test_notebook.ipynb"
 },
 "nbformat": 4,
 "nbformat_minor": 1
}

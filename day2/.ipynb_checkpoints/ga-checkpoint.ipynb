{
 "cells": [
  {
   "cell_type": "markdown",
   "metadata": {
    "ein.tags": "worksheet-0",
    "slideshow": {
     "slide_type": "-"
    }
   },
   "source": [
    "# Genetic algorithm"
   ]
  },
  {
   "cell_type": "markdown",
   "metadata": {},
   "source": [
    "In this exercise we will use genetic algorithms locate global optima in two different optimzation problems. First we will learn about the genetic algorithm implemented in ASE ([ase.ga]()) by locating the best perovskites for water splitting. Next we will tackle the combinatorially harder problem of the chemical ordering in a bimetallic nanoparticle."
   ]
  },
  {
   "cell_type": "markdown",
   "metadata": {},
   "source": [
    "## About genetic algorithms\n",
    "\n",
    "A Genetic algorithm (GA) takes a Darwinistic approach to optimization by maintaining a *population* of solution *candidates* to a problem (e.g. what is the best chemical ordering of a multi-component system).\n",
    "- The population is evolved to obtain better solutions by mating and mutating selected candidates and putting the fittest *offspring* in the population.\n",
    "- The *fitness* of a candidate is a function which, for example, measures the stability or performance of a candidate.\n",
    "- Natural selection is used to keep a constant population size by removing the least fit candidates.\n",
    "- Mating or *crossover* combine candidates to create offspring with parts from more candidates present, when favorable traits are combined and passed on the population is evolved. However, only performing crossover operations risks stagnating the evolution due to a lack of diversity -- performing crossover on very similar candidates is unlikely to create progress when performed repeatedly.\n",
    "- *Mutation* induces diversity in the population and thus prevents premature convergence.\n",
    "\n",
    "The figure below gives a simplified outline of the algorithm.\n",
    "\n",
    "![ga-outline](images/ga-outline.png)\n",
    "\n",
    "GAs are generally applicable to areas where traditional optimization by derivative methods are unsuited and a brute force approach is computationally infeasible.\n",
    "\n",
    "Furthermore, the output of a GA run will be a selection of optimized candidates, which often will be preferred over only getting the best candidate, especially taking into account the potential inaccuracy of the employed methods. Thus a GA finds many applications within atomic simulations, and will often be one of the best methods for searching large phase spaces."
   ]
  },
  {
   "cell_type": "markdown",
   "metadata": {},
   "source": [
    "## Genetic algorithm search for perovskites for water splitting\n",
    "In the first part we will use a GA to predict the best perovskite for water splitting.\n",
    "\n",
    "### Background\n",
    "\n",
    "[Castelli et al](http://xlink.rsc.org/?DOI=c2ee22341d) performed a density functional theory (DFT) screening of $\\sim$19000 perovskite materials. Only a small number of the calculated candidate materials ($\\sim$20) were found to be sufficiently interesting for photocatalytic water splitting to warrant further experimental investigation. A genetic algorithm could reduce the number of calculations required to locate the interesting candidates. We will try to make 19000 into ?\n",
    "\n",
    "![split-water](images/split-water.png)\n",
    "\n",
    "The data is publicly [available](https://cmr.fysik.dtu.dk/cubic_perovskites/cubic_perovskites.html#cubic-perovskites), so we can test how few candidates we can get away with calculating for discovering the best candidates. This assignment is similar to that performed by [Jain et al.](http://link.springer.com/10.1007/s10853-013-7448-9). Note we will use the database to look up the results of the calculations, we do not do any DFT calculations in this exercise. It is only a matter of trying to run and optimize the GA.\n",
    "\n",
    "### Introduction to the database\n",
    "\n",
    "We will try and browse through the data a bit to get a feel for what is inside the database. It contains some calculated properties of cubic perovskites, we will use it as a reference when we try to identify the best perovskite for water splitting. Along with the perovskite compounds, the database also contains reference calculations of the elements in their standard states. We start by connecting to the database (more info on the `ase db` module can be found [here]( https://wiki.fysik.dtu.dk/ase/ase/db/db.html#module-ase.db)), and inspecting a single row:\n"
   ]
  },
  {
   "cell_type": "code",
   "execution_count": null,
   "metadata": {},
   "outputs": [],
   "source": [
    "from ase.db import connect\n",
    "db = connect('/work3/projects/week11/stly/cubic_perovskites.db')\n",
    "row = next(db.select())\n",
    "#vars(row)\n"
   ]
  },
  {
   "cell_type": "markdown",
   "metadata": {},
   "source": [
    "Each row of the database has some key-value pairs, which are stored explicitly, as well as some basic information which is always stored, recording how the data was calculated. Below are some values that we will have use for in this exercise.\n",
    "\n",
    "- heat_of_formation_all\n",
    "- gllbsc_dir_gap\n",
    "- gllbsc_ind_gap\n",
    "- CB_ind, CB_dir\n",
    "- VB_ind, VB_dir\n"
   ]
  },
  {
   "cell_type": "markdown",
   "metadata": {},
   "source": [
    "Each row also has a `toatoms()` method, which lets us extract an ase atoms object from the row."
   ]
  },
  {
   "cell_type": "code",
   "execution_count": null,
   "metadata": {},
   "outputs": [],
   "source": [
    "from ase.visualize import view\n",
    "view(row.toatoms())"
   ]
  },
  {
   "cell_type": "markdown",
   "metadata": {},
   "source": [
    "When doing any kind of data analysis, the first step is always to become familiar with the data in question, on a basic level. The `select()` method of the database applies a query to the database and returns an iterator of all the rows matching that query. To select all rows with a user of `einstein`, we would type `db.select(user='einstein')`. To select all rows with a gllbsc direct gap greater than 0.5 eV, we would type `db.select('gllbsc_dir_gap>0.5')`.\n",
    "Counting the number of hits can be be done using `db.count(key=value)` for some key-value pair.\n",
    "\n",
    "How many rows are there in the database? \n"
   ]
  },
  {
   "cell_type": "code",
   "execution_count": null,
   "metadata": {},
   "outputs": [],
   "source": [
    "db.count()"
   ]
  },
  {
   "cell_type": "markdown",
   "metadata": {},
   "source": [
    "The structures in the database were generated from the general formula ABX, and then varying A, B and X. X represents the anions.\n",
    "The A, B and X is encoded in values of the keys `A_ion`, `B_ion` and `anion` respectively, i.e. `row.A_ion -> 'Ti'`.\n"
   ]
  },
  {
   "cell_type": "code",
   "execution_count": null,
   "metadata": {},
   "outputs": [],
   "source": [
    "row.A_ion\n"
   ]
  },
  {
   "cell_type": "markdown",
   "metadata": {},
   "source": [
    "Taking into account modern day computer power the number of possible candidates does not refrain us from doing a full screening of all combinations. If the number was one or two orders of magnitude higher (easily imagineably by adding more anions or a different class of A/B ions i.e. organic molecules) a full screening would not be feasible. The GA is a good method to use for an optimization problem with a large phase space."
   ]
  },
  {
   "cell_type": "markdown",
   "metadata": {},
   "source": [
    "### Start the GA\n",
    "\n",
    "We will start by putting the reference database into local memory. This makes lookup of values of each candidate much faster. Then we will set up another database that will hold the candidates generated by the GA. We also make two lists called `AB_ions` and `anions` respectively that holds the possibilities for `A`, `B` and `X`. It will be needed to run the GA.\n",
    "\n",
    "**Note** the cell below takes a little while to execute."
   ]
  },
  {
   "cell_type": "code",
   "execution_count": null,
   "metadata": {},
   "outputs": [],
   "source": [
    "from ga_help import get_raw_score\n",
    "from operator import itemgetter\n",
    "\n",
    "# The reference database are put in local memory for faster lookup\n",
    "ref_dict = {}\n",
    "all_list = []\n",
    "A_ions, B_ions, anions = set(), set(), set()\n",
    "for row in db.select('anion'):\n",
    "    # Use a key: A-B-X to look up each row\n",
    "    s = '-'.join([row.A_ion, row.B_ion, row.anion])\n",
    "    A_ions.add(row.A_ion)\n",
    "    B_ions.add(row.B_ion)\n",
    "    anions.add(row.anion)\n",
    "    ref_dict[s] = row\n",
    "    all_list.append((s, get_raw_score(row, method='product')))\n",
    "\n",
    "AB_ions = sorted(list(A_ions))\n",
    "anions = sorted(list(anions))\n",
    "\n",
    "combinations = len(AB_ions) ** 2 * len(anions)\n",
    "print(combinations)\n",
    "print('built ref dictionary')\n",
    "\n",
    "# sort the list by the raw score\n",
    "all_list.sort(key=itemgetter(1), reverse=True)\n",
    "with open('top_list.txt', 'w') as fd:\n",
    "    for st, rs in all_list:\n",
    "        print(st, rs, file=fd)\n"
   ]
  },
  {
   "cell_type": "markdown",
   "metadata": {},
   "source": [
    "Check which A, B and an-ions are available in the phase space."
   ]
  },
  {
   "cell_type": "code",
   "execution_count": null,
   "metadata": {},
   "outputs": [],
   "source": [
    "print('AB ions')\n",
    "print(AB_ions)\n",
    "print('Anions')\n",
    "print(anions)"
   ]
  },
  {
   "cell_type": "markdown",
   "metadata": {},
   "source": [
    "The variables below are needed to initialize the GA"
   ]
  },
  {
   "cell_type": "code",
   "execution_count": null,
   "metadata": {},
   "outputs": [],
   "source": [
    "# File name\n",
    "from ga_help import get_db_file_name\n",
    "ga_db_file = get_db_file_name('perovskite')\n",
    "\n",
    "# Define the population size\n",
    "pop_size = 50\n",
    "\n",
    "# Phase space are defined in AB_ions and anions\n"
   ]
  },
  {
   "cell_type": "markdown",
   "metadata": {},
   "source": [
    "Here we initialize the database file that holds information about the GA run."
   ]
  },
  {
   "cell_type": "code",
   "execution_count": null,
   "metadata": {},
   "outputs": [],
   "source": [
    "from ase.ga.data import PrepareDB\n",
    "\n",
    "# Initialize the GA database\n",
    "prep_ga_db = PrepareDB(ga_db_file,\n",
    "                       population_size=pop_size,\n",
    "                       anions=anions, AB_ions=AB_ions)\n"
   ]
  },
  {
   "cell_type": "markdown",
   "metadata": {},
   "source": [
    "Now we create the initial population by creating random candidates."
   ]
  },
  {
   "cell_type": "code",
   "execution_count": null,
   "metadata": {},
   "outputs": [],
   "source": [
    "import random\n",
    "\n",
    "# Construct a random starting population\n",
    "print('Generating random population of size {0}'.format(pop_size))\n",
    "start_set = set()\n",
    "for _ in range(pop_size):\n",
    "    # Choose two random from AB_ions and one random from anions\n",
    "    cand = random.sample(AB_ions, 2) + random.sample(anions, 1)\n",
    "    s = '-'.join(cand)\n",
    "    # We don't want duplicates in the starting population\n",
    "    if s in start_set:\n",
    "        continue\n",
    "    start_set.add(s)\n",
    "    # A candidate is added to the database, it is not evaluated (unrelaxed)\n",
    "    prep_ga_db.add_unrelaxed_candidate(ref_dict[s].toatoms(),\n",
    "                                       atoms_string=s)\n",
    "print('Done.')\n"
   ]
  },
  {
   "cell_type": "markdown",
   "metadata": {},
   "source": [
    "Now the initialization of the database file is finished. You can move on to [Run the GA](#Run-the-GA)"
   ]
  },
  {
   "cell_type": "markdown",
   "metadata": {},
   "source": [
    "Run the cell below if *and only if* you need to restart the algorithm. It will delete all the progress in the database file."
   ]
  },
  {
   "cell_type": "code",
   "execution_count": null,
   "metadata": {},
   "outputs": [],
   "source": [
    "import os\n",
    "if os.path.isfile(ga_db_file):\n",
    "    os.remove(ga_db_file)"
   ]
  },
  {
   "cell_type": "markdown",
   "metadata": {},
   "source": [
    "### Run the GA\n",
    "\n",
    "First we need to use a different class for the database."
   ]
  },
  {
   "cell_type": "code",
   "execution_count": null,
   "metadata": {},
   "outputs": [],
   "source": [
    "from ase.ga.data import DataConnection\n",
    "\n",
    "ga_db = DataConnection(ga_db_file)\n"
   ]
  },
  {
   "cell_type": "markdown",
   "metadata": {},
   "source": [
    "Then we will evaluate the starting population. Each candidate is evaluated based on stability (heat of formation), band gap and maximum of valence and minimum of conduction band, they should be positioned at the O$_2$/H$_2$O and H$^+$/H$_2$ potentials respectively. The evaluation of each candidate ends with an assigment of a raw score. The raw score help to determine how fit each candidate is when comparing to the rest of the population. For more information see the function `get_raw_score` in the file ga_help.py"
   ]
  },
  {
   "cell_type": "code",
   "execution_count": null,
   "metadata": {},
   "outputs": [],
   "source": [
    "from ga_help import evaluate, get_evaluated_set\n",
    "\n",
    "# Evaluate the starting population\n",
    "candidates_to_be_added = []\n",
    "for a in ga_db.get_all_unrelaxed_candidates():\n",
    "    evaluate(a, ref_dict)\n",
    "    candidates_to_be_added.append(a)\n",
    "ga_db.add_more_relaxed_candidates(candidates_to_be_added)\n",
    "\n",
    "# Keep track of the candidates that has been evaluated\n",
    "already_evaluated = get_evaluated_set(ga_db_file)\n"
   ]
  },
  {
   "cell_type": "markdown",
   "metadata": {},
   "source": [
    "The algorithm works by maintaining a population of candidates, that is evolved towards the optimal candidates as the algorithm run progresses. Below we initialize the population class."
   ]
  },
  {
   "cell_type": "code",
   "execution_count": null,
   "metadata": {},
   "outputs": [],
   "source": [
    "from ase.ga.standard_comparators import StringComparator\n",
    "from ase.ga.population import Population\n",
    "\n",
    "# Define how to compare two different candidates\n",
    "comp = StringComparator('atoms_string')\n",
    "\n",
    "# The population is kept in the Population instance\n",
    "pop = Population(data_connection=ga_db,\n",
    "                 population_size=pop_size,\n",
    "                 comparator=comp)\n"
   ]
  },
  {
   "cell_type": "markdown",
   "metadata": {},
   "source": [
    "![perovskite](images/perovskite.png)\n",
    "\n",
    "Each candidate is represented by a list of elements `[A, B, X]`. The algorithm will evolve the population not unlike natural evolution by combining and mutating the best candidates in the population to create new candidates better adjusted to fit the environment.\n",
    "\n",
    "Evolution takes place through operators, that are defined as individual classes:\n",
    "- `OnePointListCrossover`\n",
    "- `RandomListMutation`\n",
    "- `NeighborhoodListMutation`\n",
    "- `ListPermutation`\n",
    "- `RandomListCreation`\n",
    "\n",
    "Try and see how each operator works. See below for examples"
   ]
  },
  {
   "cell_type": "code",
   "execution_count": null,
   "metadata": {},
   "outputs": [],
   "source": [
    "from list_operators import RandomListMutation\n",
    "from ga_help import get_atoms_string\n",
    "\n",
    "# Two candidates are selected from the population as parents\n",
    "a1, a2 = pop.get_two_candidates(with_history=False)\n",
    "\n",
    "print(get_atoms_string(a1))\n",
    "\n",
    "# Initialize an operator\n",
    "random_operator = RandomListMutation([AB_ions, anions])\n",
    "\n",
    "# Use the get_new_individual method to get a new candidate\n",
    "# Two parents are accepted even though only one is returned\n",
    "offspring, desc = random_operator.get_new_individual([a1, a2])\n",
    "print(desc)\n",
    "print(get_atoms_string(offspring))\n"
   ]
  },
  {
   "cell_type": "code",
   "execution_count": null,
   "metadata": {},
   "outputs": [],
   "source": [
    "from list_operators import OnePointListCrossover\n",
    "\n",
    "# Get two candidates from the population\n",
    "a1, a2 = pop.get_two_candidates(with_history=False)\n",
    "\n",
    "print(get_atoms_string(a1), get_atoms_string(a2))\n",
    "\n",
    "# Initialize an operator\n",
    "crossover_operator = OnePointListCrossover()\n",
    "\n",
    "# The crossover takes two candidates as input and combine to produce offspring\n",
    "offspring, desc = crossover_operator.get_new_individual([a1, a2])\n",
    "print(desc)\n",
    "print(get_atoms_string(offspring))\n"
   ]
  },
  {
   "cell_type": "markdown",
   "metadata": {},
   "source": [
    "Now we put all the available operators together with probabilities of how often they are selected to produce new candidates."
   ]
  },
  {
   "cell_type": "code",
   "execution_count": null,
   "metadata": {},
   "outputs": [],
   "source": [
    "from ase.ga.offspring_creator import OperationSelector\n",
    "from list_operators import OnePointListCrossover, RandomListMutation,\\\n",
    "    NeighborhoodListMutation, ListPermutation, RandomListCreation\n",
    "\n",
    "# Specify the procreation operators for the algorithm\n",
    "# Try and play with the mutation operators that move to nearby\n",
    "# places in the periodic table\n",
    "oclist = ([1, 3, 1, 1, 1], [RandomListMutation([AB_ions, anions]),\n",
    "                            OnePointListCrossover(),\n",
    "                            NeighborhoodListMutation([AB_ions, anions]),\n",
    "                            RandomListCreation([AB_ions, anions], [2, 1]),\n",
    "                            ListPermutation([AB_ions, anions])])\n",
    "operation_selector = OperationSelector(*oclist)\n"
   ]
  },
  {
   "cell_type": "markdown",
   "metadata": {},
   "source": [
    "Now we write the loop that in essence is the algorithm. Try and run the cell below a couple of times and see that fitter candidates are produced as the population evolves. Then go to the [Analysis](#analysis) section to check how the GA is performing and then come back here and run it some more.\n",
    "\n",
    "**Note:** The algorithm takes a little bit of time to run so be patient, you can follow the progress in the output cell below."
   ]
  },
  {
   "cell_type": "code",
   "execution_count": null,
   "metadata": {},
   "outputs": [],
   "source": [
    "import numpy as np\n",
    "from ga_help import set_syms, get_atoms_string\n",
    "\n",
    "print('Number of evaluated candidates in database: {0}'.format(len(already_evaluated)))\n",
    "worst_raw_score_in_pop = pop.pop[-1].info['key_value_pairs']['raw_score']\n",
    "# Get the largest gaid in db\n",
    "max_id = ga_db.get_largest_in_db('gaid')\n",
    "\n",
    "# This many candidates will be tested in this loop\n",
    "num_cands = 1000\n",
    "\n",
    "# Run the algorithm\n",
    "add_later = []\n",
    "found = set()\n",
    "for i in range(1, num_cands + 1):\n",
    "    offspring = None\n",
    "    while offspring is None or s in already_evaluated:\n",
    "        # Select parents\n",
    "        a1, a2 = pop.get_two_candidates(with_history=False)\n",
    "        \n",
    "        # Select procreation operator\n",
    "        op = operation_selector.get_operator()\n",
    "        \n",
    "        # Do the operation\n",
    "        offspring = op.get_new_individual([a1, a2])\n",
    "        \n",
    "        # Get the candidate as a string to check if it has already\n",
    "        # been evaluated\n",
    "        s = get_atoms_string(offspring)\n",
    "\n",
    "    # Technical details not important\n",
    "    a3, desc = offspring\n",
    "    set_syms(a3, ref_dict[s])\n",
    "    already_evaluated.add(s)\n",
    "    # We don't save the unrelaxed candidates in this case, due to speed\n",
    "    # So we have to set an artificial confid\n",
    "    # db.add_unrelaxed_candidate(a3, description=desc)\n",
    "    a3.info['confid'] = i + max_id\n",
    "\n",
    "    # Invoke the evaluation\n",
    "    evaluate(a3, ref_dict)\n",
    "    \n",
    "    # If the evaluated candidate will enter the population it will be saved\n",
    "    # now, else it is written after the loop terminates\n",
    "    if a3.info['key_value_pairs']['raw_score'] > worst_raw_score_in_pop:\n",
    "        ga_db.add_relaxed_step(a3)\n",
    "\n",
    "        pop.update([a3])\n",
    "        worst_raw_score_in_pop = pop.pop[-1].info['key_value_pairs']['raw_score']\n",
    "    else:\n",
    "        add_later.append(a3)\n",
    "\n",
    "    # Print the progress of the algorithm for every 50 evaluated candidates\n",
    "    if i % 50 == 0:\n",
    "        best = pop.pop[0].info['key_value_pairs']\n",
    "        worst = pop.pop[-1].info['key_value_pairs']\n",
    "        print('After {0} evaluations'.format(i))\n",
    "        print('Best candidate in population:', best['atoms_string'],\n",
    "              best['raw_score'])\n",
    "        print('Worst candidate in population:', worst['atoms_string'],\n",
    "              worst['raw_score'])\n",
    "        print(50 * '-')\n",
    "    \n",
    "print('Writing rest of candidates to database (#{0})'.format(len(add_later)))\n",
    "ga_db.add_more_relaxed_candidates(add_later)\n"
   ]
  },
  {
   "cell_type": "markdown",
   "metadata": {},
   "source": [
    "## Analysis\n",
    "\n",
    "Since all the candidates have previously been calculated we can evaluate the effectiveness of the algorithm. How quickly it discovers the top candidates compared to a random search.\n",
    "\n",
    "![top-candidates](images/candidates.png)\n",
    "\n",
    "Let's see the top candidates with our fitness/raw score"
   ]
  },
  {
   "cell_type": "code",
   "execution_count": null,
   "metadata": {},
   "outputs": [],
   "source": [
    "# Print out the top 20 candidates and their raw score\n",
    "!head -20 top_list.txt"
   ]
  },
  {
   "cell_type": "markdown",
   "metadata": {},
   "source": [
    "Now we can see how many of the top 20 is found by the current algorithm."
   ]
  },
  {
   "cell_type": "code",
   "execution_count": null,
   "metadata": {},
   "outputs": [],
   "source": [
    "# Get the top list from the text file top_list.txt\n",
    "f = open('top_list.txt')\n",
    "top_list = []\n",
    "for l in f:\n",
    "    top_list.append(l.split(' ')[0])\n",
    "f.close()\n",
    "\n",
    "# Only consider the top 20\n",
    "top_number = 20\n",
    "top_list = top_list[:top_number]\n",
    "    \n",
    "db_ga = connect(ga_db_file)\n",
    "found = set()\n",
    "i = 0\n",
    "for row in db_ga.select('relaxed=1', sort='gaid'):\n",
    "    i += 1\n",
    "    s = row.atoms_string\n",
    "    if s in top_list and s not in found:\n",
    "        found.add(s)\n",
    "        lf = len(found)\n",
    "        print(f'# found candidates in top {top_number}: {lf}. {s} evaluated as number: {i}')\n"
   ]
  },
  {
   "cell_type": "markdown",
   "metadata": {},
   "source": [
    "Let us compare the performance with a random search. The cell below defines a function that returns the average number of draws it takes to find x number of top candidates [ref](https://math.stackexchange.com/questions/206798/pulling-cards-from-a-deck-without-replacement-to-reach-a-goal-average-draws-nee)."
   ]
  },
  {
   "cell_type": "code",
   "execution_count": null,
   "metadata": {},
   "outputs": [],
   "source": [
    "%matplotlib inline\n",
    "import matplotlib.pyplot as plt\n",
    "import numpy as np\n",
    "from plot_help import remove_duplicate_labels\n",
    "\n",
    "search_space = db.count('anion')\n",
    "def random_search(number_of_candidates):\n",
    "    return (number_of_candidates * (search_space + 1)) / (top_number + 1)\n",
    "\n",
    "\n",
    "# Create the figure object\n",
    "fig, ax = plt.subplots()\n",
    "\n",
    "# Plot the number of found candidates by GA as a function of evaluated candidates\n",
    "found = set()\n",
    "i = 0\n",
    "for row in db_ga.select('relaxed=1', sort='gaid'):\n",
    "    i += 1\n",
    "    s = row.atoms_string\n",
    "    if s in top_list and s not in found:\n",
    "        found.add(s)\n",
    "        lf = len(found)\n",
    "        ax.plot(i, lf, 'bo', label='GA')\n",
    "        \n",
    "# Plot the random search\n",
    "y = np.array(range(top_number + 1))\n",
    "ax.plot(random_search(y), y, 'k-', label='Random search')\n",
    "\n",
    "\n",
    "# Put labels on axes\n",
    "ax.set_xlabel('Evaluations performed')\n",
    "ax.set_ylabel('Candidates found')\n",
    "\n",
    "remove_duplicate_labels(ax)\n"
   ]
  },
  {
   "cell_type": "markdown",
   "metadata": {},
   "source": [
    "Now let us compare the algorithm performance with using your chemical intuition before doing any calculations. There are three chemical rules we can enforce on the perovskites.\n",
    "\n",
    "1. Even - odd number of electrons. The total number of electrons should be even. Compounds with odd number of electrons have a partially occupied eigenstate and are therefore metallic with zero band gap.\n",
    "2. Valence balance. The sum of oxidation states of a realistic ionic compound should be able to be 0.\n",
    "3. The Goldschmidt tolerance factor. This factor: $\\frac{r_A + r_X}{\\sqrt{2}(r_B + r_X)}$, where $r_i$ is the ionic radii of the elements, is equal to 1 in an ideal perovskite, meaning that compounds with a tolerance factor far from one are not going to be stable as perovskites. The candidates fulfilling the first two criteria are ranked with respect to the deviation from the optimal Goldschmidt tolerance factor and are evaluated in turn starting with the tolerance closest to one.\n",
    "\n",
    "The function `get_chemical_intuition_found_list` in the cell below goes through sorted list and returns how many evaluations would be needed to find the candidates in the top list using the rules stated above."
   ]
  },
  {
   "cell_type": "code",
   "execution_count": null,
   "metadata": {},
   "outputs": [],
   "source": [
    "from chemical_intuition import get_chemical_intuition_found_list\n",
    "\n",
    "# Plot the chemical intuition search\n",
    "found_with_chemical_intuition = get_chemical_intuition_found_list(top_list)\n",
    "y_chemical = np.array(range(len(found_with_chemical_intuition)))\n",
    "ax.plot(found_with_chemical_intuition, y_chemical, 'r-', label='Chemical')\n",
    "remove_duplicate_labels(ax)\n",
    "fig"
   ]
  },
  {
   "cell_type": "markdown",
   "metadata": {},
   "source": [
    "Are the GA able to beat chemical intuition?"
   ]
  },
  {
   "cell_type": "markdown",
   "metadata": {},
   "source": [
    "# GA for nanoalloys"
   ]
  },
  {
   "cell_type": "markdown",
   "metadata": {},
   "source": [
    "GA is now commonly used as an efficient global optimization approach for bimetallic nanoparticles. The GA search starts by randomly generating a set of atomic configurations of bimetallic nanoparticles, which is defined as the population. Throughout the whole GA search, the size of the population always remains constant. Next, the candidates of the population perform genetic operations including crossover, mutation and selection, to obtain offsprings which constitutes evolving a generation. Crossover operators acts by juxtaposing two different motifs from each participating parent and thereby creating two offsprings with inherited properties. Mutation operators introduce a random small structural change to a chosen parent so that favorable genetic structures can be discovered. All the individual candidates are ranked according to the mixing energy, where lower mixing energies are assigned with higher fitness. By selecting suitable operators and optimal hyperparameters, the GA evolves towards an optimal population in which the structures with lower fitness are eliminated and all remaining structures are low in mixing energy, i.e., thermodynamically stable. The figures below showcase two types of GA run, one with a fixed composition and the other with all possible compositions.\n",
    "\n",
    "In the second part we will run composition-fixed GA to search for the most stable 1.5 nm diameter icosahedral Ni$_{0.8}$Pt$_{0.2}$ nanoalloy.\n",
    "\n",
    "![image info](images/ga_nanoalloy.png)"
   ]
  },
  {
   "cell_type": "code",
   "execution_count": null,
   "metadata": {},
   "outputs": [],
   "source": [
    "#Start by importing all relevant modules\n",
    "from orderings import RandomOrderingGenerator as ROG\n",
    "from ga_help import get_db_file_name\n",
    "from ase.cluster import Icosahedron, Octahedron, Decahedron\n",
    "from ase.io import read\n",
    "from ase.visualize import view\n",
    "from ase.ga.data import DataConnection, PrepareDB\n",
    "from ase.ga.particle_mutations import RandomPermutation,COM2surfPermutation\n",
    "from ase.ga.particle_mutations import Rich2poorPermutation, Poor2richPermutation\n",
    "from ase.ga.particle_crossovers import CutSpliceCrossover\n",
    "from ase.ga.offspring_creator import OperationSelector\n",
    "from ase.ga.particle_comparator import NNMatComparator\n",
    "from ase.ga.population import Population\n",
    "from ase.ga.convergence import GenerationRepetitionConvergence\n",
    "from ase.ga.utilities import closest_distances_generator, get_nnmat\n",
    "from ase.data import atomic_numbers\n",
    "from random import randint\n",
    "from asap3 import EMT as asapEMT\n",
    "from ase.calculators.singlepoint import SinglePointCalculator as SPC\n",
    "from ase.optimize import BFGS\n",
    "import matplotlib.pyplot as plt\n",
    "import shutil\n",
    "import math\n",
    "import os"
   ]
  },
  {
   "cell_type": "markdown",
   "metadata": {},
   "source": [
    "## Initialize a database"
   ]
  },
  {
   "cell_type": "markdown",
   "metadata": {},
   "source": [
    "First, we need to define the population size of each generation in GA"
   ]
  },
  {
   "cell_type": "code",
   "execution_count": null,
   "metadata": {},
   "outputs": [],
   "source": [
    "# Define population\n",
    "pop_size = 50"
   ]
  },
  {
   "cell_type": "markdown",
   "metadata": {},
   "source": [
    "Now generate the starting generation using RandomOrderingGenerator"
   ]
  },
  {
   "cell_type": "code",
   "execution_count": null,
   "metadata": {},
   "outputs": [],
   "source": [
    "# Define the bimetallic species\n",
    "bimetallic_species = ['Ni', 'Pt']\n",
    "\n",
    "# Initialize a nanoparticle with a certain shape (Icosahedron / Octahedron / Decahedron)\n",
    "particle = Icosahedron('Ni', noshells=4)\n",
    "particle.center(vacuum=5.)\n",
    "\n",
    "# Generate 50 icosahedral Ni118Pt29 nanoparticles with random orderings\n",
    "rog = ROG(particle, elements=bimetallic_species,\n",
    "          composition={'Ni': 0.8, 'Pt': 0.2},\n",
    "          trajectory='starting_generation.traj')\n",
    "rog.run(num_gen=pop_size)"
   ]
  },
  {
   "cell_type": "markdown",
   "metadata": {},
   "source": [
    "Visualize the starting generation"
   ]
  },
  {
   "cell_type": "code",
   "execution_count": null,
   "metadata": {},
   "outputs": [],
   "source": [
    "images = read('starting_generation.traj', index=':')\n",
    "view(images)"
   ]
  },
  {
   "cell_type": "markdown",
   "metadata": {},
   "source": [
    "Prepare a database to save structures during the GA run"
   ]
  },
  {
   "cell_type": "code",
   "execution_count": null,
   "metadata": {},
   "outputs": [],
   "source": [
    "# Instantiate the db\n",
    "db_name = get_db_file_name('Ni118Pt29_emt')\n",
    "\n",
    "os.system('rm {}'.format(db_name))\n",
    "db = PrepareDB(db_name, cell=particle.cell, population_size=pop_size)\n",
    "\n",
    "for atoms in images:\n",
    "    db.add_unrelaxed_candidate(atoms)\n",
    "\n",
    "# Connect to the db\n",
    "db = DataConnection(db_name)"
   ]
  },
  {
   "cell_type": "markdown",
   "metadata": {},
   "source": [
    "## Define GA parameters"
   ]
  },
  {
   "cell_type": "markdown",
   "metadata": {},
   "source": [
    "Define procreation operators"
   ]
  },
  {
   "cell_type": "code",
   "execution_count": null,
   "metadata": {},
   "outputs": [],
   "source": [
    "# Define closest distance after crossover\n",
    "cd = closest_distances_generator(atom_numbers=[atomic_numbers[bimetallic_species[0]],\n",
    "                                               atomic_numbers[bimetallic_species[1]]],\n",
    "                                 ratio_of_covalent_radii=0.7)\n",
    "\n",
    "soclist = ([3, 2, 1, 1, 3], # Change the ratios of different operators\n",
    "           [RandomPermutation(elements=bimetallic_species, num_muts=randint(1, 10)),\n",
    "            COM2surfPermutation(elements=bimetallic_species, min_ratio=0.1, num_muts=5),\n",
    "            Rich2poorPermutation(elements=bimetallic_species),\n",
    "            Poor2richPermutation(elements=bimetallic_species),\n",
    "            CutSpliceCrossover(cd, keep_composition=True)])\n",
    "op_selector = OperationSelector(*soclist)"
   ]
  },
  {
   "cell_type": "markdown",
   "metadata": {},
   "source": [
    "Define comparator"
   ]
  },
  {
   "cell_type": "code",
   "execution_count": null,
   "metadata": {},
   "outputs": [],
   "source": [
    "comp = NNMatComparator(0.2, bimetallic_species)"
   ]
  },
  {
   "cell_type": "markdown",
   "metadata": {},
   "source": [
    "Define population. Here we can choose the standard population."
   ]
  },
  {
   "cell_type": "code",
   "execution_count": null,
   "metadata": {},
   "outputs": [],
   "source": [
    "pop_size = db.get_param('population_size')\n",
    "pop = Population(data_connection=db, population_size=pop_size, comparator=comp)"
   ]
  },
  {
   "cell_type": "markdown",
   "metadata": {},
   "source": [
    "Define convergence criterion"
   ]
  },
  {
   "cell_type": "code",
   "execution_count": null,
   "metadata": {},
   "outputs": [],
   "source": [
    "cc = GenerationRepetitionConvergence(pop, 5)"
   ]
  },
  {
   "cell_type": "markdown",
   "metadata": {},
   "source": [
    "Define the energy minimzation function used in the GA. The minimized energy is used as the score (fintess) of each candidate."
   ]
  },
  {
   "cell_type": "code",
   "execution_count": null,
   "metadata": {},
   "outputs": [],
   "source": [
    "def relax(atoms):\n",
    "    # Centering the atoms\n",
    "    atoms.center(vacuum=5.)\n",
    "    # Here we use EMT calcualtor for efficiency\n",
    "    atoms.calc = asapEMT()\n",
    "    opt = BFGS(atoms, logfile=None)\n",
    "    opt.run(fmax=0.1)\n",
    "    # Get the minimized EMT energy\n",
    "    e = atoms.get_potential_energy()\n",
    "    calc = SPC(atoms, energy = e)\n",
    "    atoms.calc = calc\n",
    "    atoms.info['data']['nnmat'] = get_nnmat(atoms)\n",
    "    atoms.info['key_value_pairs']['raw_score'] = -e\n",
    "    atoms.info['key_value_pairs']['EMT_energy'] = e"
   ]
  },
  {
   "cell_type": "markdown",
   "metadata": {},
   "source": [
    "## Run the GA"
   ]
  },
  {
   "cell_type": "markdown",
   "metadata": {},
   "source": [
    "Relax the starting generation. See if your energy minimization function is working. The starting generation will take longer time to relax."
   ]
  },
  {
   "cell_type": "code",
   "execution_count": null,
   "metadata": {},
   "outputs": [],
   "source": [
    "ncand = 1\n",
    "e_gen1 = 1e5\n",
    "atoms_gen1 = None\n",
    "while db.get_number_of_unrelaxed_candidates() > 0:\n",
    "    atoms = db.get_an_unrelaxed_candidate()\n",
    "    print('\\rRelaxing candidate {}'.format(ncand), end='')\n",
    "    relax(atoms)\n",
    "    db.add_relaxed_step(atoms)\n",
    "    e = atoms.info['key_value_pairs']['EMT_energy']\n",
    "    if e < e_gen1:\n",
    "        e_gen1 = e\n",
    "        atoms_gen1 = atoms\n",
    "    ncand += 1\n",
    "pop.update()"
   ]
  },
  {
   "cell_type": "markdown",
   "metadata": {},
   "source": [
    "To track the local minima during the GA run, we make 2 lists that stores the minimum energies and the corresponding structures for each generation."
   ]
  },
  {
   "cell_type": "code",
   "execution_count": null,
   "metadata": {},
   "outputs": [],
   "source": [
    "e_gm = [e_gen1]\n",
    "atoms_gm = [atoms_gen1]\n",
    "print('Current minimum energy: {}'.format(e_gm[-1]))"
   ]
  },
  {
   "cell_type": "markdown",
   "metadata": {},
   "source": [
    "Specify the number of new generations"
   ]
  },
  {
   "cell_type": "code",
   "execution_count": null,
   "metadata": {},
   "outputs": [],
   "source": [
    "num_gens = 100"
   ]
  },
  {
   "cell_type": "markdown",
   "metadata": {},
   "source": [
    "Run the main GA script"
   ]
  },
  {
   "cell_type": "code",
   "execution_count": null,
   "metadata": {},
   "outputs": [],
   "source": [
    "# Below is the iterative part of the algorithm\n",
    "gen_num = db.get_generation_number()\n",
    "ncand = gen_num * pop_size + 1\n",
    "for i in range(num_gens):\n",
    "    # Check if converged\n",
    "    if cc.converged():\n",
    "        print('Converged')\n",
    "        break\n",
    "\n",
    "    print('Creating and evaluating generation {0}'.format(gen_num + i + 1))\n",
    "    new_generation = []\n",
    "    e_gen = 1e5\n",
    "    atoms_gen = None\n",
    "    for _ in range(pop_size):\n",
    "        # Select an operator and use it\n",
    "        op = op_selector.get_operator()\n",
    "        # Select parents for a new candidate\n",
    "        p1, p2 = pop.get_two_candidates()\n",
    "        parents = [p1, p2]\n",
    "        offspring, desc = op.get_new_individual(parents)\n",
    "        # An operator could return None if an offspring cannot be formed\n",
    "        # by the chosen parents\n",
    "        if offspring is None:\n",
    "            continue\n",
    "            \n",
    "        print('\\rRelaxing candidate {0}'.format(ncand), end='')\n",
    "        relax(offspring)\n",
    "        e = offspring.info['key_value_pairs']['EMT_energy']\n",
    "        # Update the global minimum of the current generation\n",
    "        if e < e_gen:\n",
    "            e_gen = e\n",
    "            atoms_gen = offspring\n",
    "        new_generation.append(offspring)\n",
    "        ncand += 1\n",
    "\n",
    "    # Append to the list of global minima\n",
    "    e_gm.append(e_gen)\n",
    "    atoms_gm.append(atoms_gen)\n",
    "    # Plot the current minima\n",
    "    x = list(range(gen_num + i + 2 - len(e_gm), gen_num + i + 2))\n",
    "    y = e_gm\n",
    "    plt.xticks(range(min(x), math.ceil(max(x)) + 1))\n",
    "    plt.xlabel('Generation')\n",
    "    plt.ylabel('Energy (eV)')\n",
    "    plt.plot(x, y, marker='.', markersize=10)\n",
    "    plt.show()\n",
    "\n",
    "    # We add a full relaxed generation at once, this is faster than adding\n",
    "    # one at a time\n",
    "    db.add_more_relaxed_candidates(new_generation)\n",
    "\n",
    "    # update the population to allow new candidates to enter\n",
    "    pop.update(new_generation)\n",
    "    \n",
    "shutil.copyfile(db_name, 'Ni118Pt29_emt.db')"
   ]
  },
  {
   "cell_type": "markdown",
   "metadata": {},
   "source": [
    "## Visualizing the Results"
   ]
  },
  {
   "cell_type": "markdown",
   "metadata": {},
   "source": [
    "Visualize minima for each generation and find the global minimum structure"
   ]
  },
  {
   "cell_type": "code",
   "execution_count": null,
   "metadata": {},
   "outputs": [],
   "source": [
    "view(atoms_gm)"
   ]
  }
 ],
 "metadata": {
  "kernelspec": {
   "display_name": "Python 3",
   "language": "python",
   "name": "python3"
  },
  "language_info": {
   "codemirror_mode": {
    "name": "ipython",
    "version": 3
   },
   "file_extension": ".py",
   "mimetype": "text/x-python",
   "name": "python",
   "nbconvert_exporter": "python",
   "pygments_lexer": "ipython3",
   "version": "3.6.13"
  },
  "name": "ga.ipynb"
 },
 "nbformat": 4,
 "nbformat_minor": 2
}

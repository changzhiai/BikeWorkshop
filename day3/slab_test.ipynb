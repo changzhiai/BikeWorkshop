{
 "cells": [
  {
   "cell_type": "markdown",
   "id": "interpreted-german",
   "metadata": {},
   "source": [
    "# Build structures"
   ]
  },
  {
   "cell_type": "code",
   "execution_count": 2,
   "id": "silent-processing",
   "metadata": {},
   "outputs": [
    {
     "data": {
      "text/plain": [
       "<subprocess.Popen at 0x7fdd1c0b5280>"
      ]
     },
     "execution_count": 2,
     "metadata": {},
     "output_type": "execute_result"
    }
   ],
   "source": [
    "from ase import Atoms\n",
    "from ase.build import surface, bulk, root_surface_analysis, root_surface, add_vacuum, cut, make_supercell\n",
    "from ase.visualize import view\n",
    "import numpy as np\n",
    "from ase.io import write,read\n",
    "from ase.geometry import get_duplicate_atoms\n",
    "\n",
    "a = 4.139\n",
    "bulk_PdH = Atoms('Pd4H4',\n",
    "              scaled_positions=[(0.0, 0.0, 0.0),\n",
    "                                (0.0, 0.5, 0.5),\n",
    "                                (0.5, 0.0, 0.5),\n",
    "                                (0.5, 0.5, 0.0),\n",
    "                                (0.5, 0.5, 0.5),\n",
    "                                (0.5, 0.0, 0.0),\n",
    "                                (0.0, 0.5, 0.0),\n",
    "                                (0.0, 0.0, 0.5)],\n",
    "              cell=[a, a, a],\n",
    "              pbc=True)\n",
    "\n",
    "slab = surface(bulk_PdH, (1, 1, 1), 6)\n",
    "slab.center(vacuum=10, axis=2)\n",
    "# slab.translate((1.5, 1.3, 0.))\n",
    "system = cut(slab, a=(1.499, 0, 0), b=(0, 1.499, 0), extend=1.499, nlayers=12)\n",
    "del system[[atom.y > 7.6 or (atom.y < (1.732*atom.x-15.207)) for atom in system]]\n",
    "get_duplicate_atoms(system, cutoff=0.1, delete=True)\n",
    "# system = system.repeat((2,2,1))\n",
    "view(system)\n",
    "# write('system.cif', system)"
   ]
  },
  {
   "cell_type": "markdown",
   "id": "fresh-center",
   "metadata": {},
   "source": [
    "# Slice slab tricks"
   ]
  },
  {
   "cell_type": "code",
   "execution_count": null,
   "id": "organized-basis",
   "metadata": {},
   "outputs": [],
   "source": [
    "root_surface_analysis(slab, 27)"
   ]
  },
  {
   "cell_type": "code",
   "execution_count": null,
   "id": "generic-crash",
   "metadata": {},
   "outputs": [],
   "source": [
    "a = root_surface(slab, 7)\n",
    "view(a)"
   ]
  },
  {
   "cell_type": "code",
   "execution_count": null,
   "id": "proof-papua",
   "metadata": {},
   "outputs": [],
   "source": [
    "system = read(\"system.cif\")\n",
    "view(system)\n",
    "# rea.set_pbc((True, False, False))\n",
    "system.get_global_number_of_atoms()\n",
    "system.get_pbc()\n",
    "a = system.repeat((2, 2, 1))\n",
    "view(a)"
   ]
  },
  {
   "cell_type": "code",
   "execution_count": null,
   "id": "herbal-failing",
   "metadata": {},
   "outputs": [],
   "source": [
    "# from ase.spacegroup import crystal\n",
    "# a = 9.04\n",
    "# skutterudite = crystal(('Co', 'Sb'),\n",
    "#                         basis=[(0.25,0.25,0.25), (0.0, 0.335, 0.158)],\n",
    "#                         spacegroup=204,\n",
    "#                         cellpar=[a, a, a, 90, 90, 90])\n",
    "\n",
    "# # Then use *origo* to put 'Co' at the corners and *extend* to\n",
    "# # include all corner and edge atoms.\n",
    "# s = cut(skutterudite, origo=(0.25, 0.25, 0.25), extend=1.5)\n",
    "# view(s)  "
   ]
  },
  {
   "cell_type": "code",
   "execution_count": null,
   "id": "exterior-class",
   "metadata": {},
   "outputs": [],
   "source": []
  }
 ],
 "metadata": {
  "kernelspec": {
   "display_name": "Python 3",
   "language": "python",
   "name": "python3"
  },
  "language_info": {
   "codemirror_mode": {
    "name": "ipython",
    "version": 3
   },
   "file_extension": ".py",
   "mimetype": "text/x-python",
   "name": "python",
   "nbconvert_exporter": "python",
   "pygments_lexer": "ipython3",
   "version": "3.8.4"
  }
 },
 "nbformat": 4,
 "nbformat_minor": 5
}
